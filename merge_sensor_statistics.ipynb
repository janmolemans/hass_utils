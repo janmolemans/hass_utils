{
 "cells": [
  {
   "cell_type": "code",
   "execution_count": 1,
   "metadata": {},
   "outputs": [
    {
     "data": {
      "text/plain": [
       "'\\nThis scripts merges the statistics of 2 sensors into 1\\nIt does this for multiple sensors because i had added almost the same sensors via 2 different integrations\\n'"
      ]
     },
     "execution_count": 1,
     "metadata": {},
     "output_type": "execute_result"
    }
   ],
   "source": [
    "\"\"\"\n",
    "This scripts merges the statistics of 2 sensors into 1\n",
    "It does this for multiple sensors because i had added almost the same sensors via 2 different integrations\n",
    "\"\"\""
   ]
  },
  {
   "cell_type": "code",
   "execution_count": 2,
   "metadata": {},
   "outputs": [],
   "source": [
    "hass_ip=\"192.168.1.25\" # change this to the ip of you home assistant installation"
   ]
  },
  {
   "cell_type": "code",
   "execution_count": 8,
   "metadata": {},
   "outputs": [],
   "source": [
    "# mapping of the sensors, statistics of the left ones will be merged into the right ones\n",
    "mapping={'sensor.nibe_93714_44270': 'sensor.calc_cooling_supply_s1_44270',\n",
    "        'sensor.nibe_93714_40013': 'sensor.bt7_hw_top_40013',\n",
    "        'sensor.nibe_93714_40015': 'sensor.eb100_ep14_bt10_brine_in_temp_40015',\n",
    "        'sensor.nibe_93714_40004': 'sensor.bt1_outdoor_temperature_40004',\n",
    "        'sensor.nibe_93714_40012': 'sensor.eb100_ep14_bt3_return_temp_40012',\n",
    "        'sensor.nibe_93714_40018': 'sensor.eb100_ep14_bt14_hot_gas_temp_40018',\n",
    "        'sensor.nibe_93714_40017': 'sensor.eb100_ep14_bt12_condensor_out_40017',\n",
    "        'sensor.nibe_93714_40033': 'sensor.bt50_room_temp_s1_40033',\n",
    "        'sensor.nibe_93714_40067': 'sensor.bt1_average_40067',\n",
    "        'sensor.nibe_93714_40016': 'sensor.eb100_ep14_bt11_brine_out_temp_40016',\n",
    "        'sensor.nibe_93714_40014': 'sensor.bt6_hw_load_40014',\n",
    "        'sensor.nibe_93714_43009': 'sensor.calc_supply_s1_43009',\n",
    "        'sensor.nibe_93714_40019': 'sensor.eb100_ep14_bt15_liquid_line_40019',\n",
    "        'sensor.nibe_93714_40008': 'sensor.bt2_supply_temp_s1_40008',\n",
    "        'sensor.nibe_93714_40022': 'sensor.eb100_ep14_bt17_suction_40022'}"
   ]
  },
  {
   "attachments": {},
   "cell_type": "markdown",
   "metadata": {},
   "source": [
    "# Retrieve database from home assistant server"
   ]
  },
  {
   "cell_type": "code",
   "execution_count": 3,
   "metadata": {},
   "outputs": [
    {
     "name": "stdout",
     "output_type": "stream",
     "text": [
      "home-assistant_v2.db                          100%  762MB  11.3MB/s   01:07    \n"
     ]
    }
   ],
   "source": [
    "# add your public key to the homeassistant account to make scp possible\n",
    "! scp homeassistant@{hass_ip}:/home/homeassistant/.homeassistant/home-assistant_v2.db .\n",
    "! mkdir -p backup\n",
    "! cp home-assistant_v2.db backup # make a backup"
   ]
  },
  {
   "cell_type": "markdown",
   "metadata": {},
   "source": [
    "# Connect to DB"
   ]
  },
  {
   "cell_type": "code",
   "execution_count": 4,
   "metadata": {},
   "outputs": [],
   "source": [
    "import pandas\n",
    "import sqlite3\n",
    "import pandas\n",
    "pandas.options.plotting.backend = \"plotly\"\n",
    "\n",
    "# Read sqlite query results into a pandas DataFrame\n",
    "con = sqlite3.connect(\"home-assistant_v2.db\")"
   ]
  },
  {
   "attachments": {},
   "cell_type": "markdown",
   "metadata": {},
   "source": [
    "# Merge"
   ]
  },
  {
   "cell_type": "code",
   "execution_count": 9,
   "metadata": {},
   "outputs": [],
   "source": [
    "def merge(source_sensor, target_sensor, table='statistics'):\n",
    "    print(f\"source: {source_sensor}, target: {target_sensor}\")\n",
    "    # read data from target sensor\n",
    "    target_sensor_id=pandas.read_sql_query(f\"\"\"select id FROM statistics_meta \n",
    "                                                where statistic_id like '{target_sensor}';\"\"\", con).loc[0,'id']\n",
    "    target_df=pandas.read_sql_query(\n",
    "            f\"select * FROM {table} where metadata_id = '{target_sensor_id}';\", con\n",
    "        )\n",
    "    print(f\"length of existing statistics for target sensor: {len(target_df)}\")\n",
    "\n",
    "    min_dt = target_df[\"start\"].min()\n",
    "\n",
    "    # read data from source sensor\n",
    "    source_sensor_id=pandas.read_sql_query(f\"\"\"select id FROM statistics_meta \n",
    "                                                where statistic_id like '{source_sensor}';\"\"\", con).loc[0,'id']\n",
    "    source_df=pandas.read_sql_query(\n",
    "            f\"select * FROM {table} where metadata_id = '{source_sensor_id}' and start < '{min_dt}';\", con\n",
    "        )\n",
    "    print(f\"length of existing statistics for source sensor: {len(source_df)}\")\n",
    "\n",
    "\n",
    "    # concat new historical statistics with updated old statistics\n",
    "    df = pandas.concat([source_df, target_df], ignore_index=True).sort_values(\"start\")\n",
    "\n",
    "    # set metadata_id to the one of the target sensor\n",
    "    df[\"metadata_id\"]=target_sensor_id\n",
    "\n",
    "    # drop all existing rows with same metadata_id as the sensors\n",
    "    stmnt = f\"\"\"DELETE FROM {table}\n",
    "                WHERE metadata_id in ({source_sensor_id}, {target_sensor_id});\"\"\"\n",
    "    cur = con.cursor()\n",
    "    cur.execute(stmnt)\n",
    "    con.commit()\n",
    "\n",
    "    # insert new data into table\n",
    "    df.to_sql(\n",
    "        table, con, schema=None, if_exists=\"append\", index=False,\n",
    "    )\n"
   ]
  },
  {
   "cell_type": "code",
   "execution_count": 10,
   "metadata": {},
   "outputs": [
    {
     "name": "stdout",
     "output_type": "stream",
     "text": [
      "statistics\n",
      "source: sensor.nibe_93714_44270, target: sensor.calc_cooling_supply_s1_44270\n",
      "length of existing statistics for target sensor: 5102\n",
      "length of existing statistics for source sensor: 0\n",
      "statistics_short_term\n",
      "source: sensor.nibe_93714_44270, target: sensor.calc_cooling_supply_s1_44270\n",
      "length of existing statistics for target sensor: 2902\n",
      "length of existing statistics for source sensor: 4564\n",
      "statistics\n",
      "source: sensor.nibe_93714_40013, target: sensor.bt7_hw_top_40013\n",
      "length of existing statistics for target sensor: 5102\n",
      "length of existing statistics for source sensor: 0\n",
      "statistics_short_term\n",
      "source: sensor.nibe_93714_40013, target: sensor.bt7_hw_top_40013\n",
      "length of existing statistics for target sensor: 2902\n",
      "length of existing statistics for source sensor: 4564\n",
      "statistics\n",
      "source: sensor.nibe_93714_40015, target: sensor.eb100_ep14_bt10_brine_in_temp_40015\n",
      "length of existing statistics for target sensor: 5102\n",
      "length of existing statistics for source sensor: 0\n",
      "statistics_short_term\n",
      "source: sensor.nibe_93714_40015, target: sensor.eb100_ep14_bt10_brine_in_temp_40015\n",
      "length of existing statistics for target sensor: 2903\n",
      "length of existing statistics for source sensor: 4563\n",
      "statistics\n",
      "source: sensor.nibe_93714_40004, target: sensor.bt1_outdoor_temperature_40004\n",
      "length of existing statistics for target sensor: 5102\n",
      "length of existing statistics for source sensor: 0\n",
      "statistics_short_term\n",
      "source: sensor.nibe_93714_40004, target: sensor.bt1_outdoor_temperature_40004\n",
      "length of existing statistics for target sensor: 2902\n",
      "length of existing statistics for source sensor: 4564\n",
      "statistics\n",
      "source: sensor.nibe_93714_40012, target: sensor.eb100_ep14_bt3_return_temp_40012\n",
      "length of existing statistics for target sensor: 5102\n",
      "length of existing statistics for source sensor: 0\n",
      "statistics_short_term\n",
      "source: sensor.nibe_93714_40012, target: sensor.eb100_ep14_bt3_return_temp_40012\n",
      "length of existing statistics for target sensor: 2902\n",
      "length of existing statistics for source sensor: 4564\n",
      "statistics\n",
      "source: sensor.nibe_93714_40018, target: sensor.eb100_ep14_bt14_hot_gas_temp_40018\n",
      "length of existing statistics for target sensor: 5102\n",
      "length of existing statistics for source sensor: 0\n",
      "statistics_short_term\n",
      "source: sensor.nibe_93714_40018, target: sensor.eb100_ep14_bt14_hot_gas_temp_40018\n",
      "length of existing statistics for target sensor: 2902\n",
      "length of existing statistics for source sensor: 4564\n",
      "statistics\n",
      "source: sensor.nibe_93714_40017, target: sensor.eb100_ep14_bt12_condensor_out_40017\n",
      "length of existing statistics for target sensor: 5102\n",
      "length of existing statistics for source sensor: 0\n",
      "statistics_short_term\n",
      "source: sensor.nibe_93714_40017, target: sensor.eb100_ep14_bt12_condensor_out_40017\n",
      "length of existing statistics for target sensor: 2902\n",
      "length of existing statistics for source sensor: 4564\n",
      "statistics\n",
      "source: sensor.nibe_93714_40033, target: sensor.bt50_room_temp_s1_40033\n",
      "length of existing statistics for target sensor: 5102\n",
      "length of existing statistics for source sensor: 0\n",
      "statistics_short_term\n",
      "source: sensor.nibe_93714_40033, target: sensor.bt50_room_temp_s1_40033\n",
      "length of existing statistics for target sensor: 2903\n",
      "length of existing statistics for source sensor: 4563\n",
      "statistics\n",
      "source: sensor.nibe_93714_40067, target: sensor.bt1_average_40067\n",
      "length of existing statistics for target sensor: 5102\n",
      "length of existing statistics for source sensor: 0\n",
      "statistics_short_term\n",
      "source: sensor.nibe_93714_40067, target: sensor.bt1_average_40067\n",
      "length of existing statistics for target sensor: 2903\n",
      "length of existing statistics for source sensor: 4562\n",
      "statistics\n",
      "source: sensor.nibe_93714_40016, target: sensor.eb100_ep14_bt11_brine_out_temp_40016\n",
      "length of existing statistics for target sensor: 5102\n",
      "length of existing statistics for source sensor: 0\n",
      "statistics_short_term\n",
      "source: sensor.nibe_93714_40016, target: sensor.eb100_ep14_bt11_brine_out_temp_40016\n",
      "length of existing statistics for target sensor: 2902\n",
      "length of existing statistics for source sensor: 4564\n",
      "statistics\n",
      "source: sensor.nibe_93714_40014, target: sensor.bt6_hw_load_40014\n",
      "length of existing statistics for target sensor: 5102\n",
      "length of existing statistics for source sensor: 0\n",
      "statistics_short_term\n",
      "source: sensor.nibe_93714_40014, target: sensor.bt6_hw_load_40014\n",
      "length of existing statistics for target sensor: 2902\n",
      "length of existing statistics for source sensor: 4564\n",
      "statistics\n",
      "source: sensor.nibe_93714_43009, target: sensor.calc_supply_s1_43009\n",
      "length of existing statistics for target sensor: 5102\n",
      "length of existing statistics for source sensor: 0\n",
      "statistics_short_term\n",
      "source: sensor.nibe_93714_43009, target: sensor.calc_supply_s1_43009\n",
      "length of existing statistics for target sensor: 2902\n",
      "length of existing statistics for source sensor: 4564\n",
      "statistics\n",
      "source: sensor.nibe_93714_40019, target: sensor.eb100_ep14_bt15_liquid_line_40019\n",
      "length of existing statistics for target sensor: 5102\n",
      "length of existing statistics for source sensor: 0\n",
      "statistics_short_term\n",
      "source: sensor.nibe_93714_40019, target: sensor.eb100_ep14_bt15_liquid_line_40019\n",
      "length of existing statistics for target sensor: 2902\n",
      "length of existing statistics for source sensor: 4564\n",
      "statistics\n",
      "source: sensor.nibe_93714_40008, target: sensor.bt2_supply_temp_s1_40008\n",
      "length of existing statistics for target sensor: 5102\n",
      "length of existing statistics for source sensor: 0\n",
      "statistics_short_term\n",
      "source: sensor.nibe_93714_40008, target: sensor.bt2_supply_temp_s1_40008\n",
      "length of existing statistics for target sensor: 2902\n",
      "length of existing statistics for source sensor: 4564\n",
      "statistics\n",
      "source: sensor.nibe_93714_40022, target: sensor.eb100_ep14_bt17_suction_40022\n",
      "length of existing statistics for target sensor: 5102\n",
      "length of existing statistics for source sensor: 0\n",
      "statistics_short_term\n",
      "source: sensor.nibe_93714_40022, target: sensor.eb100_ep14_bt17_suction_40022\n",
      "length of existing statistics for target sensor: 2902\n",
      "length of existing statistics for source sensor: 4564\n"
     ]
    }
   ],
   "source": [
    "for source_sensor, target_sensor in mapping.items():\n",
    "    for table in (\"statistics\", \"statistics_short_term\"):    \n",
    "        print(table)\n",
    "        merge(source_sensor, target_sensor, table)"
   ]
  },
  {
   "cell_type": "markdown",
   "metadata": {},
   "source": [
    "# Copy db back to home assistant server"
   ]
  },
  {
   "cell_type": "code",
   "execution_count": 11,
   "metadata": {},
   "outputs": [
    {
     "name": "stdout",
     "output_type": "stream",
     "text": [
      "home-assistant_v2.db                          100%  762MB  12.6MB/s   01:00    \n"
     ]
    }
   ],
   "source": [
    "! scp home-assistant_v2.db homeassistant@{hass_ip}:/home/homeassistant/.homeassistant/"
   ]
  }
 ],
 "metadata": {
  "kernelspec": {
   "display_name": "watermeter",
   "language": "python",
   "name": "python3"
  },
  "language_info": {
   "codemirror_mode": {
    "name": "ipython",
    "version": 3
   },
   "file_extension": ".py",
   "mimetype": "text/x-python",
   "name": "python",
   "nbconvert_exporter": "python",
   "pygments_lexer": "ipython3",
   "version": "3.11.0"
  },
  "orig_nbformat": 4,
  "vscode": {
   "interpreter": {
    "hash": "29f62ddf6052fc3cbbf17655180ba76afb223cb4671e29d3f02f8ca2f3b5d212"
   }
  }
 },
 "nbformat": 4,
 "nbformat_minor": 2
}
