{
 "cells": [
  {
   "cell_type": "code",
   "execution_count": 1,
   "metadata": {},
   "outputs": [
    {
     "data": {
      "text/plain": [
       "'script to delete legacy devices from device list in homeassistant'"
      ]
     },
     "execution_count": 1,
     "metadata": {},
     "output_type": "execute_result"
    }
   ],
   "source": [
    "\"\"\"script to delete legacy devices from device list in homeassistant\"\"\""
   ]
  },
  {
   "cell_type": "code",
   "execution_count": 6,
   "metadata": {},
   "outputs": [],
   "source": [
    "import datetime\n",
    "hass_ip=\"192.168.1.25\" # change this to the ip of you home assistant installation\n",
    "today = datetime.datetime.now().strftime(\"%Y-%m-%d\")"
   ]
  },
  {
   "cell_type": "code",
   "execution_count": 7,
   "metadata": {},
   "outputs": [
    {
     "name": "stdout",
     "output_type": "stream",
     "text": [
      "core.device_registry                          100%   18KB 178.4KB/s   00:00    \n"
     ]
    }
   ],
   "source": [
    "! scp homeassistant@{hass_ip}:/home/homeassistant/.homeassistant/.storage/core.device_registry .\n",
    "! mkdir -p backup\n",
    "! cp home-assistant_v2.db backup/core.device_registry_{today}.db # make a backup"
   ]
  },
  {
   "cell_type": "code",
   "execution_count": 16,
   "metadata": {},
   "outputs": [],
   "source": [
    "import json\n",
    "\n",
    "# Read JSON file\n",
    "with open('core.device_registry', 'r') as f:\n",
    "    data = json.load(f)\n",
    "\n",
    "\n",
    "bogus_device_names=['ventiel-keuken', None]\n",
    "# Filter out bogus or legacy device names\n",
    "data['data']['devices']=[device for device in data['data']['devices'] if device['name'] not in bogus_device_names]\n",
    "\n",
    "\n",
    "# Write back to disk\n",
    "with open('core.device_registry', 'w') as f:\n",
    "    json.dump(data, f)"
   ]
  },
  {
   "cell_type": "code",
   "execution_count": 17,
   "metadata": {},
   "outputs": [],
   "source": [
    "# for device in data['data']['devices']:\n",
    "#     if device['name'] in ['eltako', 'warmtepomp']:\n",
    "#         print(device)"
   ]
  },
  {
   "cell_type": "code",
   "execution_count": 18,
   "metadata": {},
   "outputs": [
    {
     "name": "stdout",
     "output_type": "stream",
     "text": [
      "core.device_registry                          100%   17KB   1.2MB/s   00:00    \n"
     ]
    }
   ],
   "source": [
    "# copy back to hass server\n",
    "! scp core.device_registry homeassistant@{hass_ip}:/home/homeassistant/.homeassistant/.storage/"
   ]
  }
 ],
 "metadata": {
  "kernelspec": {
   "display_name": "general",
   "language": "python",
   "name": "python3"
  },
  "language_info": {
   "codemirror_mode": {
    "name": "ipython",
    "version": 3
   },
   "file_extension": ".py",
   "mimetype": "text/x-python",
   "name": "python",
   "nbconvert_exporter": "python",
   "pygments_lexer": "ipython3",
   "version": "3.11.0"
  },
  "orig_nbformat": 4
 },
 "nbformat": 4,
 "nbformat_minor": 2
}
